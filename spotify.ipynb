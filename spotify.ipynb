{
 "cells": [
  {
   "attachments": {},
   "cell_type": "markdown",
   "metadata": {},
   "source": [
    "## Koneksi ke Spotify API"
   ]
  },
  {
   "cell_type": "code",
   "execution_count": 52,
   "metadata": {},
   "outputs": [
    {
     "name": "stdout",
     "output_type": "stream",
     "text": [
      "Requirement already satisfied: spotify in c:\\users\\hp\\appdata\\local\\programs\\python\\python311\\lib\\site-packages (0.10.2)Note: you may need to restart the kernel to use updated packages.\n",
      "\n",
      "Requirement already satisfied: aiohttp<4.0,>=3.6 in c:\\users\\hp\\appdata\\local\\programs\\python\\python311\\lib\\site-packages (from spotify) (3.8.4)\n",
      "Requirement already satisfied: backoff<2.0.0,>=1.10.0 in c:\\users\\hp\\appdata\\local\\programs\\python\\python311\\lib\\site-packages (from spotify) (1.11.1)\n",
      "Requirement already satisfied: attrs>=17.3.0 in c:\\users\\hp\\appdata\\local\\programs\\python\\python311\\lib\\site-packages (from aiohttp<4.0,>=3.6->spotify) (23.1.0)\n",
      "Requirement already satisfied: charset-normalizer<4.0,>=2.0 in c:\\users\\hp\\appdata\\local\\programs\\python\\python311\\lib\\site-packages (from aiohttp<4.0,>=3.6->spotify) (3.1.0)\n",
      "Requirement already satisfied: multidict<7.0,>=4.5 in c:\\users\\hp\\appdata\\local\\programs\\python\\python311\\lib\\site-packages (from aiohttp<4.0,>=3.6->spotify) (6.0.4)\n",
      "Requirement already satisfied: async-timeout<5.0,>=4.0.0a3 in c:\\users\\hp\\appdata\\local\\programs\\python\\python311\\lib\\site-packages (from aiohttp<4.0,>=3.6->spotify) (4.0.2)\n",
      "Requirement already satisfied: yarl<2.0,>=1.0 in c:\\users\\hp\\appdata\\local\\programs\\python\\python311\\lib\\site-packages (from aiohttp<4.0,>=3.6->spotify) (1.9.2)\n",
      "Requirement already satisfied: frozenlist>=1.1.1 in c:\\users\\hp\\appdata\\local\\programs\\python\\python311\\lib\\site-packages (from aiohttp<4.0,>=3.6->spotify) (1.3.3)\n",
      "Requirement already satisfied: aiosignal>=1.1.2 in c:\\users\\hp\\appdata\\local\\programs\\python\\python311\\lib\\site-packages (from aiohttp<4.0,>=3.6->spotify) (1.3.1)\n",
      "Requirement already satisfied: idna>=2.0 in c:\\users\\hp\\appdata\\local\\programs\\python\\python311\\lib\\site-packages (from yarl<2.0,>=1.0->aiohttp<4.0,>=3.6->spotify) (3.4)\n"
     ]
    },
    {
     "name": "stderr",
     "output_type": "stream",
     "text": [
      "\n",
      "[notice] A new release of pip available: 22.3.1 -> 23.1.2\n",
      "[notice] To update, run: python.exe -m pip install --upgrade pip\n"
     ]
    }
   ],
   "source": [
    "pip install spotify"
   ]
  },
  {
   "cell_type": "code",
   "execution_count": 53,
   "metadata": {},
   "outputs": [
    {
     "name": "stdout",
     "output_type": "stream",
     "text": [
      "Requirement already satisfied: spotipy in c:\\users\\hp\\appdata\\local\\programs\\python\\python311\\lib\\site-packages (2.23.0)\n",
      "Requirement already satisfied: redis>=3.5.3 in c:\\users\\hp\\appdata\\local\\programs\\python\\python311\\lib\\site-packages (from spotipy) (4.5.5)\n",
      "Requirement already satisfied: requests>=2.25.0 in c:\\users\\hp\\appdata\\local\\programs\\python\\python311\\lib\\site-packages (from spotipy) (2.31.0)\n",
      "Requirement already satisfied: six>=1.15.0 in c:\\users\\hp\\appdata\\roaming\\python\\python311\\site-packages (from spotipy) (1.16.0)\n",
      "Requirement already satisfied: urllib3>=1.26.0 in c:\\users\\hp\\appdata\\local\\programs\\python\\python311\\lib\\site-packages (from spotipy) (2.0.3)\n",
      "Requirement already satisfied: async-timeout>=4.0.2 in c:\\users\\hp\\appdata\\local\\programs\\python\\python311\\lib\\site-packages (from redis>=3.5.3->spotipy) (4.0.2)\n",
      "Requirement already satisfied: charset-normalizer<4,>=2 in c:\\users\\hp\\appdata\\local\\programs\\python\\python311\\lib\\site-packages (from requests>=2.25.0->spotipy) (3.1.0)\n",
      "Requirement already satisfied: idna<4,>=2.5 in c:\\users\\hp\\appdata\\local\\programs\\python\\python311\\lib\\site-packages (from requests>=2.25.0->spotipy) (3.4)\n",
      "Requirement already satisfied: certifi>=2017.4.17 in c:\\users\\hp\\appdata\\local\\programs\\python\\python311\\lib\\site-packages (from requests>=2.25.0->spotipy) (2023.5.7)\n",
      "Note: you may need to restart the kernel to use updated packages.\n"
     ]
    },
    {
     "name": "stderr",
     "output_type": "stream",
     "text": [
      "\n",
      "[notice] A new release of pip available: 22.3.1 -> 23.1.2\n",
      "[notice] To update, run: python.exe -m pip install --upgrade pip\n"
     ]
    }
   ],
   "source": [
    "pip install spotipy"
   ]
  },
  {
   "cell_type": "code",
   "execution_count": 54,
   "metadata": {},
   "outputs": [],
   "source": [
    "import spotify\n",
    "import spotipy\n",
    "from spotipy.oauth2 import SpotifyClientCredentials\n",
    "from spotipy.oauth2 import SpotifyOAuth"
   ]
  },
  {
   "cell_type": "code",
   "execution_count": 55,
   "metadata": {},
   "outputs": [],
   "source": [
    "client_id = \"bad660e18d0b4db9afdd6fde12577da5\"\n",
    "client_secret = \"4baaf2eefae5408eb891b26286907c94\""
   ]
  },
  {
   "cell_type": "code",
   "execution_count": 56,
   "metadata": {},
   "outputs": [],
   "source": [
    "auth_manager = SpotifyClientCredentials(client_id=client_id, client_secret=client_secret)\n",
    "sp = spotipy.Spotify(auth_manager=auth_manager)"
   ]
  },
  {
   "attachments": {},
   "cell_type": "markdown",
   "metadata": {},
   "source": [
    "## menentukan atribut yang akan dipanggil"
   ]
  },
  {
   "cell_type": "code",
   "execution_count": 57,
   "metadata": {},
   "outputs": [],
   "source": [
    "def get_features(try_id):\n",
    "    meta = sp.track(try_id)\n",
    "    features = sp.audio_features()\n",
    "\n",
    "    name = meta['name']\n",
    "    album = meta['album']['name']\n",
    "    artist = meta['album']['artists'][0]['name']\n",
    "    release_date = meta['album']['release_date']\n",
    "    length = meta['duration_ms']\n",
    "    popularity = meta['popularity']\n",
    "\n",
    "    acousticness = features[0]['acousticness']\n",
    "    danceability = features[0]['danceability']\n",
    "    energy = features[0]['energy']\n",
    "    instrumentalness = features[0]['instrumentalness']\n",
    "    liveness = features[0]['liveness']\n",
    "    loudness = features[0]['loudness']\n",
    "    speechiness = features[0]['speechiness']\n",
    "    tempo = features[0]['tempo']\n",
    "    time_signature = features[0]['time_signature']\n",
    "\n",
    "    track = [name, album, artist, release_date, length, popularity, danceability, acousticness, energy, instrumentalness, liveness, loudness, speechiness, tempo, time_signature]\n",
    "    return track"
   ]
  },
  {
   "attachments": {},
   "cell_type": "markdown",
   "metadata": {},
   "source": [
    "## tarik data dari spotify"
   ]
  },
  {
   "cell_type": "code",
   "execution_count": 58,
   "metadata": {},
   "outputs": [],
   "source": [
    "import pandas as pd"
   ]
  },
  {
   "cell_type": "code",
   "execution_count": 59,
   "metadata": {},
   "outputs": [],
   "source": [
    "def get_songs():\n",
    "    tracks = []\n",
    "    for i in range(0, 1000, 50):\n",
    "        song = sp.search(q='year:2023', type='track', limit=50)\n",
    "        for j in range(50):\n",
    "            tr_id = song['tracks']['items'][j]['id']\n",
    "            track = get_features(tr_id)\n",
    "            tracks.append(tracks)\n",
    "    df = pd.DataFrame(tracks, columns=['name', 'album', 'artist', 'release_date','length', 'popularity', 'danceability', 'acousticness', 'energy', 'instrumentalness', 'liveness', 'loudness', 'speechiness', 'tempo', 'time_signature'])\n",
    "    return df"
   ]
  },
  {
   "cell_type": "code",
   "execution_count": 60,
   "metadata": {},
   "outputs": [
    {
     "ename": "TypeError",
     "evalue": "'NoneType' object is not subscriptable",
     "output_type": "error",
     "traceback": [
      "\u001b[1;31m---------------------------------------------------------------------------\u001b[0m",
      "\u001b[1;31mTypeError\u001b[0m                                 Traceback (most recent call last)",
      "Cell \u001b[1;32mIn[60], line 1\u001b[0m\n\u001b[1;32m----> 1\u001b[0m df \u001b[39m=\u001b[39m get_songs()\n\u001b[0;32m      2\u001b[0m df\n",
      "Cell \u001b[1;32mIn[59], line 7\u001b[0m, in \u001b[0;36mget_songs\u001b[1;34m()\u001b[0m\n\u001b[0;32m      5\u001b[0m     \u001b[39mfor\u001b[39;00m j \u001b[39min\u001b[39;00m \u001b[39mrange\u001b[39m(\u001b[39m50\u001b[39m):\n\u001b[0;32m      6\u001b[0m         tr_id \u001b[39m=\u001b[39m song[\u001b[39m'\u001b[39m\u001b[39mtracks\u001b[39m\u001b[39m'\u001b[39m][\u001b[39m'\u001b[39m\u001b[39mitems\u001b[39m\u001b[39m'\u001b[39m][j][\u001b[39m'\u001b[39m\u001b[39mid\u001b[39m\u001b[39m'\u001b[39m]\n\u001b[1;32m----> 7\u001b[0m         track \u001b[39m=\u001b[39m get_features(tr_id)\n\u001b[0;32m      8\u001b[0m         tracks\u001b[39m.\u001b[39mappend(tracks)\n\u001b[0;32m      9\u001b[0m df \u001b[39m=\u001b[39m pd\u001b[39m.\u001b[39mDataFrame(tracks, columns\u001b[39m=\u001b[39m[\u001b[39m'\u001b[39m\u001b[39mname\u001b[39m\u001b[39m'\u001b[39m, \u001b[39m'\u001b[39m\u001b[39malbum\u001b[39m\u001b[39m'\u001b[39m, \u001b[39m'\u001b[39m\u001b[39martist\u001b[39m\u001b[39m'\u001b[39m, \u001b[39m'\u001b[39m\u001b[39mrelease_date\u001b[39m\u001b[39m'\u001b[39m,\u001b[39m'\u001b[39m\u001b[39mlength\u001b[39m\u001b[39m'\u001b[39m, \u001b[39m'\u001b[39m\u001b[39mpopularity\u001b[39m\u001b[39m'\u001b[39m, \u001b[39m'\u001b[39m\u001b[39mdanceability\u001b[39m\u001b[39m'\u001b[39m, \u001b[39m'\u001b[39m\u001b[39macousticness\u001b[39m\u001b[39m'\u001b[39m, \u001b[39m'\u001b[39m\u001b[39menergy\u001b[39m\u001b[39m'\u001b[39m, \u001b[39m'\u001b[39m\u001b[39minstrumentalness\u001b[39m\u001b[39m'\u001b[39m, \u001b[39m'\u001b[39m\u001b[39mliveness\u001b[39m\u001b[39m'\u001b[39m, \u001b[39m'\u001b[39m\u001b[39mloudness\u001b[39m\u001b[39m'\u001b[39m, \u001b[39m'\u001b[39m\u001b[39mspeechiness\u001b[39m\u001b[39m'\u001b[39m, \u001b[39m'\u001b[39m\u001b[39mtempo\u001b[39m\u001b[39m'\u001b[39m, \u001b[39m'\u001b[39m\u001b[39mtime_signature\u001b[39m\u001b[39m'\u001b[39m])\n",
      "Cell \u001b[1;32mIn[57], line 12\u001b[0m, in \u001b[0;36mget_features\u001b[1;34m(try_id)\u001b[0m\n\u001b[0;32m      9\u001b[0m length \u001b[39m=\u001b[39m meta[\u001b[39m'\u001b[39m\u001b[39mduration_ms\u001b[39m\u001b[39m'\u001b[39m]\n\u001b[0;32m     10\u001b[0m popularity \u001b[39m=\u001b[39m meta[\u001b[39m'\u001b[39m\u001b[39mpopularity\u001b[39m\u001b[39m'\u001b[39m]\n\u001b[1;32m---> 12\u001b[0m acousticness \u001b[39m=\u001b[39m features[\u001b[39m0\u001b[39;49m][\u001b[39m'\u001b[39;49m\u001b[39macousticness\u001b[39;49m\u001b[39m'\u001b[39;49m]\n\u001b[0;32m     13\u001b[0m danceability \u001b[39m=\u001b[39m features[\u001b[39m0\u001b[39m][\u001b[39m'\u001b[39m\u001b[39mdanceability\u001b[39m\u001b[39m'\u001b[39m]\n\u001b[0;32m     14\u001b[0m energy \u001b[39m=\u001b[39m features[\u001b[39m0\u001b[39m][\u001b[39m'\u001b[39m\u001b[39menergy\u001b[39m\u001b[39m'\u001b[39m]\n",
      "\u001b[1;31mTypeError\u001b[0m: 'NoneType' object is not subscriptable"
     ]
    }
   ],
   "source": [
    "df = get_songs()\n",
    "df"
   ]
  }
 ],
 "metadata": {
  "kernelspec": {
   "display_name": "Python 3",
   "language": "python",
   "name": "python3"
  },
  "language_info": {
   "codemirror_mode": {
    "name": "ipython",
    "version": 3
   },
   "file_extension": ".py",
   "mimetype": "text/x-python",
   "name": "python",
   "nbconvert_exporter": "python",
   "pygments_lexer": "ipython3",
   "version": "3.11.1"
  },
  "orig_nbformat": 4
 },
 "nbformat": 4,
 "nbformat_minor": 2
}
